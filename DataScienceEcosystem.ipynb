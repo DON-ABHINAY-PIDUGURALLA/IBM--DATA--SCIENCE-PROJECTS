{
 "cells": [
  {
   "cell_type": "markdown",
   "id": "8e70ee00",
   "metadata": {},
   "source": [
    "# DATA SCIENCE TOOLS AND ECOSYSTEM"
   ]
  },
  {
   "cell_type": "markdown",
   "id": "3cfc798f",
   "metadata": {},
   "source": [
    "IN THIS NOTEBOOK ,DATA SCIENCE TOOLS AND ECOSYSTEM ARE SUMMARIZED ."
   ]
  },
  {
   "cell_type": "markdown",
   "id": "082da300",
   "metadata": {},
   "source": [
    "Some of the popular languages that Data Scientists use are :\n",
    "\n",
    "1.Python\n",
    "2.R\n",
    "3.SQL\n",
    "4.C++\n",
    "5.JAVA e.t.c"
   ]
  },
  {
   "cell_type": "markdown",
   "id": "8abda299",
   "metadata": {},
   "source": [
    "Some of thecommonly used libraries by Data Scientists Include :\n",
    "\n",
    "   1.Tensorflow\n",
    "   2.numpy\n",
    "   3.Scipy\n",
    "   4.Pandas\n",
    "   5.Matplotlip\n",
    "   6.Keras\n",
    "   7.Scikit-learn\n",
    "   8.Pytorch etc.."
   ]
  },
  {
   "cell_type": "markdown",
   "id": "869c9d2d",
   "metadata": {},
   "source": [
    "|DATA SCIENCE TOOLS|\n",
    "|---|\n",
    "|SAS|\n",
    "|APACHE HADOOP|\n",
    "|TENSORFLOW|\n"
   ]
  },
  {
   "cell_type": "markdown",
   "id": "f3bd08e3",
   "metadata": {},
   "source": [
    "### BELOW ARE FEW EXAMPLES OF EVALUATING ARITHMETIC EXPRESSIONS IN PYTHON. "
   ]
  },
  {
   "cell_type": "code",
   "execution_count": 3,
   "id": "c6028512",
   "metadata": {},
   "outputs": [
    {
     "data": {
      "text/plain": [
       "10"
      ]
     },
     "execution_count": 3,
     "metadata": {},
     "output_type": "execute_result"
    }
   ],
   "source": [
    "(2*3)+4\n",
    "#This is a common arithmetic example to multiply and then add integers"
   ]
  },
  {
   "cell_type": "code",
   "execution_count": 4,
   "id": "a1c7aaa5",
   "metadata": {},
   "outputs": [
    {
     "data": {
      "text/plain": [
       "5.0"
      ]
     },
     "execution_count": 4,
     "metadata": {},
     "output_type": "execute_result"
    }
   ],
   "source": [
    "300/60\n",
    "#This will convert 200 minutes to hours by dividing by 60 "
   ]
  },
  {
   "cell_type": "markdown",
   "id": "592c5e3c",
   "metadata": {},
   "source": [
    "__OBJECTIVE__\n",
    "* List popular languages for Data science \n",
    "* List popular libraries for Data science\n",
    "* List of well known Data science \n",
    "* How to Provide comments in the cell "
   ]
  },
  {
   "cell_type": "markdown",
   "id": "53678ffe",
   "metadata": {},
   "source": [
    "## AUTHOR\n",
    "DON ABHINAY PIDUGURALLA"
   ]
  },
  {
   "cell_type": "code",
   "execution_count": null,
   "id": "b2556326",
   "metadata": {},
   "outputs": [],
   "source": []
  }
 ],
 "metadata": {
  "kernelspec": {
   "display_name": "Python 3 (ipykernel)",
   "language": "python",
   "name": "python3"
  },
  "language_info": {
   "codemirror_mode": {
    "name": "ipython",
    "version": 3
   },
   "file_extension": ".py",
   "mimetype": "text/x-python",
   "name": "python",
   "nbconvert_exporter": "python",
   "pygments_lexer": "ipython3",
   "version": "3.11.5"
  }
 },
 "nbformat": 4,
 "nbformat_minor": 5
}
